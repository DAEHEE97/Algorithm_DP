{
 "cells": [
  {
   "cell_type": "markdown",
   "id": "4527a900",
   "metadata": {},
   "source": [
    "# 2747_DP-피보나치 수\n"
   ]
  },
  {
   "cell_type": "markdown",
   "id": "e846adb5",
   "metadata": {},
   "source": [
    "---"
   ]
  },
  {
   "cell_type": "code",
   "execution_count": 1,
   "id": "20d4d1d9",
   "metadata": {},
   "outputs": [
    {
     "name": "stdout",
     "output_type": "stream",
     "text": [
      "30\n",
      "832040\n"
     ]
    }
   ],
   "source": [
    "N = int(input())\n",
    "\n",
    "# 1-2) dp테이블 정의\n",
    "dp = [0] * (N+1)\n",
    "\n",
    "# 1-3 초기값 처리\n",
    "dp[0] = 0\n",
    "dp[1] = 1\n",
    "\n",
    "# 1-1) 피보나치 점화식 \n",
    "for i in range(2, N + 1):\n",
    "    \n",
    "    dp[i] = dp[i-2] + dp[i-1]\n",
    "    \n",
    "ans = dp[N]\n",
    "\n",
    "print(ans)"
   ]
  },
  {
   "cell_type": "markdown",
   "id": "68e0ff2d",
   "metadata": {},
   "source": [
    "# 24416_알고리즘 수업 - 피보나치 수 1"
   ]
  },
  {
   "cell_type": "markdown",
   "id": "0628dd1d",
   "metadata": {},
   "source": [
    "---"
   ]
  },
  {
   "cell_type": "code",
   "execution_count": 2,
   "id": "d9f047c7",
   "metadata": {},
   "outputs": [],
   "source": [
    "def fib(n) :\n",
    "    \n",
    "    if (n == 1) or (n == 2):\n",
    "        return 1\n",
    "    \n",
    "    else:\n",
    "        return fib(n-1) + fib(n-2)\n"
   ]
  },
  {
   "cell_type": "code",
   "execution_count": 3,
   "id": "ac25e2ab",
   "metadata": {},
   "outputs": [
    {
     "name": "stdout",
     "output_type": "stream",
     "text": [
      "30\n",
      "832040 28\n"
     ]
    }
   ],
   "source": [
    "N = int(input())\n",
    "\n",
    "\n",
    "dp = [0] * (N+1)\n",
    "\n",
    "dp[1] = 1\n",
    "dp[2] = 1\n",
    "\n",
    "cnt = 0\n",
    "\n",
    "# 1-3) 점화식, 3부터 처리\n",
    "for i in range(3, N+1):\n",
    "    \n",
    "    dp[i] = dp[i-2] + dp[i-1]\n",
    "    cnt += 1\n",
    "\n",
    "\n",
    "print(dp[N], cnt)"
   ]
  }
 ],
 "metadata": {
  "kernelspec": {
   "display_name": "Python 3 (ipykernel)",
   "language": "python",
   "name": "python3"
  },
  "language_info": {
   "codemirror_mode": {
    "name": "ipython",
    "version": 3
   },
   "file_extension": ".py",
   "mimetype": "text/x-python",
   "name": "python",
   "nbconvert_exporter": "python",
   "pygments_lexer": "ipython3",
   "version": "3.8.16"
  },
  "toc": {
   "base_numbering": 1,
   "nav_menu": {},
   "number_sections": true,
   "sideBar": true,
   "skip_h1_title": false,
   "title_cell": "Table of Contents",
   "title_sidebar": "Contents",
   "toc_cell": false,
   "toc_position": {},
   "toc_section_display": true,
   "toc_window_display": false
  },
  "varInspector": {
   "cols": {
    "lenName": 16,
    "lenType": 16,
    "lenVar": 40
   },
   "kernels_config": {
    "python": {
     "delete_cmd_postfix": "",
     "delete_cmd_prefix": "del ",
     "library": "var_list.py",
     "varRefreshCmd": "print(var_dic_list())"
    },
    "r": {
     "delete_cmd_postfix": ") ",
     "delete_cmd_prefix": "rm(",
     "library": "var_list.r",
     "varRefreshCmd": "cat(var_dic_list()) "
    }
   },
   "types_to_exclude": [
    "module",
    "function",
    "builtin_function_or_method",
    "instance",
    "_Feature"
   ],
   "window_display": false
  }
 },
 "nbformat": 4,
 "nbformat_minor": 5
}
