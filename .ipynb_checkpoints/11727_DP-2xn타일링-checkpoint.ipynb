{
 "cells": [
  {
   "cell_type": "markdown",
   "id": "47bf6386",
   "metadata": {},
   "source": [
    "# 11727_DP-2xn타일링"
   ]
  },
  {
   "cell_type": "markdown",
   "id": "dc6c5eb0",
   "metadata": {},
   "source": [
    "- N = 1 인경우, 처리 > 런타임에러, idx 경계 처리 "
   ]
  },
  {
   "cell_type": "code",
   "execution_count": null,
   "id": "d75a80a1",
   "metadata": {},
   "outputs": [],
   "source": [
    "N = int(input())\n",
    "\n",
    "# 1-1) dp 테이블 정의, dp[i]: 2*i 길이의 직사각형을 만드는 방법의 수\n",
    "dp = [0] * (N+1)\n",
    "\n",
    "\n",
    "\n",
    "# 1-2) dp[]의 초기값 설정\n",
    "\n",
    "dp[1] = 1\n",
    "dp[2] = 3 # N == 1, idx error\n",
    "\n",
    "\n",
    "# 2) 규칙성 > 테이블 처리\n",
    "\n",
    "for i in range(3, N+1):\n",
    "    dp[i] = dp[i-1] + dp[i-2]*2\n",
    "\n",
    "ans = dp[N]\n",
    "\n",
    "print( ans % 10007 )"
   ]
  },
  {
   "cell_type": "markdown",
   "id": "66216c16",
   "metadata": {},
   "source": [
    "---"
   ]
  },
  {
   "cell_type": "code",
   "execution_count": null,
   "id": "e9382150",
   "metadata": {},
   "outputs": [],
   "source": [
    "N = int(input())\n",
    "\n",
    "# 1-1) dp 테이블 정의, dp[i]: 2*i 길이의 직사각형을 만드는 방법의 수\n",
    "dp = [0] * (N+1)\n",
    "\n",
    "\n",
    "\n",
    "# 1-2) dp[]의 초기값 설정\n",
    "\n",
    "# 0 <- 0 이 아니라 1로 처리해줘야함.\n",
    "# 점화식 에서 *2 로 처리 하므로,\n",
    "\n",
    "dp[0] = 1\n",
    "dp[1] = 1\n",
    "\n",
    "\n",
    "# 2) 규칙성 > 테이블 처리\n",
    "\n",
    "for i in range(2, N+1):\n",
    "    dp[i] = dp[i-1] + dp[i-2]*2\n",
    "\n",
    "ans = dp[N]\n",
    "\n",
    "print( ans % 10007 )"
   ]
  }
 ],
 "metadata": {
  "kernelspec": {
   "display_name": "Python 3 (ipykernel)",
   "language": "python",
   "name": "python3"
  },
  "language_info": {
   "codemirror_mode": {
    "name": "ipython",
    "version": 3
   },
   "file_extension": ".py",
   "mimetype": "text/x-python",
   "name": "python",
   "nbconvert_exporter": "python",
   "pygments_lexer": "ipython3",
   "version": "3.8.16"
  },
  "toc": {
   "base_numbering": 1,
   "nav_menu": {},
   "number_sections": true,
   "sideBar": true,
   "skip_h1_title": false,
   "title_cell": "Table of Contents",
   "title_sidebar": "Contents",
   "toc_cell": false,
   "toc_position": {},
   "toc_section_display": true,
   "toc_window_display": false
  },
  "varInspector": {
   "cols": {
    "lenName": 16,
    "lenType": 16,
    "lenVar": 40
   },
   "kernels_config": {
    "python": {
     "delete_cmd_postfix": "",
     "delete_cmd_prefix": "del ",
     "library": "var_list.py",
     "varRefreshCmd": "print(var_dic_list())"
    },
    "r": {
     "delete_cmd_postfix": ") ",
     "delete_cmd_prefix": "rm(",
     "library": "var_list.r",
     "varRefreshCmd": "cat(var_dic_list()) "
    }
   },
   "types_to_exclude": [
    "module",
    "function",
    "builtin_function_or_method",
    "instance",
    "_Feature"
   ],
   "window_display": false
  }
 },
 "nbformat": 4,
 "nbformat_minor": 5
}
